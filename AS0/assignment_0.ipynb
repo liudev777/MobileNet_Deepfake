{
 "cells": [
  {
   "cell_type": "markdown",
   "metadata": {},
   "source": [
    "Devin Liu\n",
    "A20483790\n",
    "CS512"
   ]
  },
  {
   "cell_type": "code",
   "execution_count": 191,
   "metadata": {},
   "outputs": [],
   "source": [
    "import numpy as np"
   ]
  },
  {
   "cell_type": "markdown",
   "metadata": {},
   "source": [
    "### PART A"
   ]
  },
  {
   "cell_type": "code",
   "execution_count": 192,
   "metadata": {},
   "outputs": [],
   "source": [
    "# reshape to make it a 3, 1 matrix instead of 1, 3\n",
    "\n",
    "P = np.array([2, -1, 4]).reshape(3,1)\n",
    "Q = np.array([0, 3, 5]).reshape(3,1)\n",
    "R = np.array([1, -2, 2]).reshape(3,1)"
   ]
  },
  {
   "cell_type": "code",
   "execution_count": 193,
   "metadata": {},
   "outputs": [
    {
     "name": "stdout",
     "output_type": "stream",
     "text": [
      "3P + 2Q:\n",
      " [[ 6]\n",
      " [ 3]\n",
      " [22]]\n"
     ]
    }
   ],
   "source": [
    "# 1\n",
    "result_1 = 3 * P + 2 * Q\n",
    "print(\"3P + 2Q:\\n\", result_1)"
   ]
  },
  {
   "cell_type": "code",
   "execution_count": 194,
   "metadata": {},
   "outputs": [
    {
     "name": "stdout",
     "output_type": "stream",
     "text": [
      "Unit vector in the direction of P:\n",
      " [[ 0.43643578]\n",
      " [-0.21821789]\n",
      " [ 0.87287156]]\n"
     ]
    }
   ],
   "source": [
    "# 2\n",
    "p_mag = np.linalg.norm(P)\n",
    "p_unit_vec = P / p_mag\n",
    "result_2 = p_unit_vec\n",
    "print(\"Unit vector in the direction of P:\\n\", result_2)"
   ]
  },
  {
   "cell_type": "code",
   "execution_count": 195,
   "metadata": {},
   "outputs": [
    {
     "name": "stdout",
     "output_type": "stream",
     "text": [
      "Magnitude of P:  4.58257569495584\n",
      "Angle of P relative to positive Y axis:  [1.7907843]\n"
     ]
    }
   ],
   "source": [
    "# 3\n",
    "p_relative_to_y = np.arccos(p_unit_vec[1])\n",
    "print(\"Magnitude of P: \", p_mag)\n",
    "result_3 = p_relative_to_y\n",
    "print(\"Angle of P relative to positive Y axis: \", result_3)"
   ]
  },
  {
   "cell_type": "code",
   "execution_count": 196,
   "metadata": {},
   "outputs": [
    {
     "name": "stdout",
     "output_type": "stream",
     "text": [
      "Direction cosine of P: \n",
      " [[ 0.43643578]\n",
      " [-0.21821789]\n",
      " [ 0.87287156]]\n"
     ]
    }
   ],
   "source": [
    "# 4\n",
    "result_4 = p_unit_vec\n",
    "print(\"Direction cosine of P: \\n\", result_4)"
   ]
  },
  {
   "cell_type": "code",
   "execution_count": 197,
   "metadata": {},
   "outputs": [
    {
     "name": "stdout",
     "output_type": "stream",
     "text": [
      "Angle between P and Q:  [[0.63620901]]\n"
     ]
    }
   ],
   "source": [
    "# 5\n",
    "p_q_dot = P.T.dot(Q)\n",
    "q_mag = np.linalg.norm(Q)\n",
    "result_5 = p_q_dot / (p_mag * q_mag)\n",
    "print(\"Angle between P and Q: \", result_5)"
   ]
  },
  {
   "cell_type": "code",
   "execution_count": 198,
   "metadata": {},
   "outputs": [
    {
     "name": "stdout",
     "output_type": "stream",
     "text": [
      "P dot Q: [[17]]\n",
      "Q dot P: [[17]]\n"
     ]
    }
   ],
   "source": [
    "# 6\n",
    "result_6 = f'P dot Q: {p_q_dot}\\nQ dot P: {Q.T.dot(P)}'\n",
    "print(result_6)"
   ]
  },
  {
   "cell_type": "code",
   "execution_count": 199,
   "metadata": {},
   "outputs": [
    {
     "name": "stdout",
     "output_type": "stream",
     "text": [
      "dot product using angle:  [[17.]]\n"
     ]
    }
   ],
   "source": [
    "# 7\n",
    "angle_between_pq = np.arccos(result_5)\n",
    "dot_product_using_angle = p_mag * q_mag * np.cos(angle_between_pq)\n",
    "result_7 = dot_product_using_angle\n",
    "print(\"dot product using angle: \", result_7)"
   ]
  },
  {
   "cell_type": "code",
   "execution_count": 200,
   "metadata": {},
   "outputs": [
    {
     "name": "stdout",
     "output_type": "stream",
     "text": [
      "Scalar projection of Q onto P:  [[3.70970413]]\n"
     ]
    }
   ],
   "source": [
    "# 8\n",
    "q_proj_p = p_q_dot/p_mag\n",
    "result_8 = q_proj_p\n",
    "print(\"Scalar projection of Q onto P: \", result_8)"
   ]
  },
  {
   "cell_type": "code",
   "execution_count": 201,
   "metadata": {},
   "outputs": [
    {
     "name": "stdout",
     "output_type": "stream",
     "text": [
      "Vector perpendicular to P: \n",
      " [[-1]\n",
      " [ 2]\n",
      " [ 1]] \n",
      "\n",
      "[[0]]\n"
     ]
    }
   ],
   "source": [
    "\n",
    "# 9\n",
    "vector_perp_to_p = np.array([-1, 2, 1]).reshape(3, 1)\n",
    "result_9 = vector_perp_to_p\n",
    "print(\"Vector perpendicular to P: \\n\", vector_perp_to_p, \"\\n\")\n",
    "print(P.T.dot(vector_perp_to_p))"
   ]
  },
  {
   "cell_type": "code",
   "execution_count": 202,
   "metadata": {},
   "outputs": [
    {
     "name": "stdout",
     "output_type": "stream",
     "text": [
      "P cross Q:\n",
      " [[-17]\n",
      " [-10]\n",
      " [  6]]\n",
      "Q cross P:\n",
      " [[17]\n",
      " [10]\n",
      " [-6]]\n"
     ]
    }
   ],
   "source": [
    "# 10\n",
    "p_cross_q = np.cross(P.T, Q.T).reshape(3, 1)\n",
    "q_cros_p = np.cross(Q.T, P.T).reshape(3, 1)\n",
    "print(\"P cross Q:\\n\", p_cross_q)\n",
    "print(\"Q cross P:\\n\", q_cros_p)"
   ]
  },
  {
   "cell_type": "code",
   "execution_count": 203,
   "metadata": {},
   "outputs": [
    {
     "name": "stdout",
     "output_type": "stream",
     "text": [
      "Perpendicular to both P and Q:\n",
      " [[-17]\n",
      " [-10]\n",
      " [  6]]\n",
      "\n",
      "Dot product should be 0:\n",
      " Dot P:  [[0]] \n",
      " Dot Q:  [[0]]\n"
     ]
    }
   ],
   "source": [
    "# 11\n",
    "result_11 = p_cross_q\n",
    "print(\"Perpendicular to both P and Q:\\n\", result_11)\n",
    "print()\n",
    "print(\"Dot product should be 0:\\n\", \"Dot P: \", (p_cross_q.T.dot(P)), \"\\n\", \"Dot Q: \",(p_cross_q.T.dot(Q)))"
   ]
  },
  {
   "cell_type": "code",
   "execution_count": 204,
   "metadata": {},
   "outputs": [
    {
     "name": "stdout",
     "output_type": "stream",
     "text": [
      "[[ 2  0  1]\n",
      " [-1  3 -2]\n",
      " [ 4  5  2]]\n",
      "Since determinate is 15.0 which != 0, P Q R are linearly independent\n"
     ]
    }
   ],
   "source": [
    "# 12\n",
    "matrix_pqr = np.column_stack((P, Q, R))\n",
    "determinant_pqr = np.linalg.det(matrix_pqr)\n",
    "print(matrix_pqr)\n",
    "print(f\"Since determinate is {determinant_pqr} which != 0, P Q R are linearly independent\")"
   ]
  },
  {
   "cell_type": "code",
   "execution_count": 205,
   "metadata": {},
   "outputs": [
    {
     "name": "stdout",
     "output_type": "stream",
     "text": [
      "P^T Q:  [[17]]\n",
      "P Q^T: \n",
      " [[ 0  6 10]\n",
      " [ 0 -3 -5]\n",
      " [ 0 12 20]]\n"
     ]
    }
   ],
   "source": [
    "# 13\n",
    "p_T_q = P.T.dot(Q)\n",
    "print(\"P^T Q: \", p_T_q)\n",
    "\n",
    "p_q_T = np.outer(P, Q)\n",
    "print(\"P Q^T: \\n\", p_q_T)"
   ]
  },
  {
   "cell_type": "markdown",
   "metadata": {},
   "source": [
    "### PART B"
   ]
  },
  {
   "cell_type": "code",
   "execution_count": 206,
   "metadata": {},
   "outputs": [],
   "source": [
    "X = np.array([[2, 1, 0], [-1, 3, 4], [3, 2 ,-2]])\n",
    "Y = np.array([[4, -1, 2], [3, 0, -3], [1, 2 ,1]])\n",
    "Z = np.array([[2, 0, -1], [1, 4, 5], [3, 1, 2]])\n",
    "s = np.array([-1, 4, 0])"
   ]
  },
  {
   "cell_type": "code",
   "execution_count": 207,
   "metadata": {},
   "outputs": [
    {
     "name": "stdout",
     "output_type": "stream",
     "text": [
      "[[10 -1  4]\n",
      " [ 5  3 -2]\n",
      " [ 5  6  0]]\n"
     ]
    }
   ],
   "source": [
    "# 1\n",
    "result_1 = X + 2 * Y\n",
    "print(result_1)"
   ]
  },
  {
   "cell_type": "code",
   "execution_count": 208,
   "metadata": {},
   "outputs": [
    {
     "name": "stdout",
     "output_type": "stream",
     "text": [
      "XY:  [[11 -2  1]\n",
      " [ 9  9 -7]\n",
      " [16 -7 -2]]\n",
      "YX:  [[15  5 -8]\n",
      " [-3 -3  6]\n",
      " [ 3  9  6]]\n"
     ]
    }
   ],
   "source": [
    "# 2\n",
    "result_2a = np.dot(X, Y)\n",
    "result_2b = np.dot(Y, X)\n",
    "print(\"XY: \", result_2a)\n",
    "print(\"YX: \", result_2b)"
   ]
  },
  {
   "cell_type": "code",
   "execution_count": 209,
   "metadata": {},
   "outputs": [
    {
     "name": "stdout",
     "output_type": "stream",
     "text": [
      "(XY)^T:\n",
      " [[11  9 16]\n",
      " [-2  9 -7]\n",
      " [ 1 -7 -2]]\n",
      "\n",
      "Y^T X^T:\n",
      " [[11  9 16]\n",
      " [-2  9 -7]\n",
      " [ 1 -7 -2]]\n"
     ]
    }
   ],
   "source": [
    "# 3\n",
    "result_3a = np.transpose(np.dot(X, Y))\n",
    "print(\"(XY)^T:\\n\", result_3a)\n",
    "print()\n",
    "result_3b = np.dot(np.transpose(Y), np.transpose(X))\n",
    "print(\"Y^T X^T:\\n\", result_3b)"
   ]
  },
  {
   "cell_type": "code",
   "execution_count": 210,
   "metadata": {},
   "outputs": [
    {
     "name": "stdout",
     "output_type": "stream",
     "text": [
      "Determinant of X:  -17.999999999999996\n",
      "Determinant of Z:  17.0\n",
      "No linear dependency\n"
     ]
    }
   ],
   "source": [
    "# 4\n",
    "determinant_X = np.linalg.det(X)\n",
    "determinant_Z = np.linalg.det(Z)\n",
    "print(\"Determinant of X: \", determinant_X)\n",
    "print(\"Determinant of Z: \", determinant_Z)\n",
    "print(\"No linear dependency\")"
   ]
  },
  {
   "cell_type": "code",
   "execution_count": 211,
   "metadata": {},
   "outputs": [
    {
     "name": "stdout",
     "output_type": "stream",
     "text": [
      "False False False\n",
      "None of the row vectors form an orthogonal set\n"
     ]
    }
   ],
   "source": [
    "# 5\n",
    "# check if dot product between every pair is 0\n",
    "def check_orthogonality(matrix):\n",
    "    for i in range(matrix.shape[0]):\n",
    "        for j in range(i + 1, matrix.shape[0]):\n",
    "            if not np.isclose(np.dot(matrix[i], matrix[j]), 0):\n",
    "                return False\n",
    "    return True\n",
    "\n",
    "is_X_orthogonal = check_orthogonality(X)\n",
    "is_Y_orthogonal = check_orthogonality(Y)\n",
    "is_Z_orthogonal = check_orthogonality(Z)\n",
    "print(is_X_orthogonal, is_Y_orthogonal, is_Z_orthogonal)\n",
    "print(\"None of the row vectors form an orthogonal set\")"
   ]
  },
  {
   "cell_type": "code",
   "execution_count": 212,
   "metadata": {},
   "outputs": [
    {
     "name": "stdout",
     "output_type": "stream",
     "text": [
      "X inverse:\n",
      " [[ 0.77777778 -0.11111111 -0.22222222]\n",
      " [-0.55555556  0.22222222  0.44444444]\n",
      " [ 0.61111111  0.05555556 -0.38888889]]\n",
      "Y inverse:\n",
      " [[ 0.14285714  0.11904762  0.07142857]\n",
      " [-0.14285714  0.04761905  0.42857143]\n",
      " [ 0.14285714 -0.21428571  0.07142857]]\n"
     ]
    }
   ],
   "source": [
    "# 6\n",
    "x_inv = np.linalg.inv(X)\n",
    "y_inv = np.linalg.inv(Y)\n",
    "print(\"X inverse:\\n\", x_inv)\n",
    "print(\"Y inverse:\\n\", y_inv)\n"
   ]
  },
  {
   "cell_type": "code",
   "execution_count": 213,
   "metadata": {},
   "outputs": [
    {
     "name": "stdout",
     "output_type": "stream",
     "text": [
      "Determinant of Z inverse:  0.0588235294117647\n",
      "Z inverse:\n",
      " [[ 0.17647059 -0.05882353  0.23529412]\n",
      " [ 0.76470588  0.41176471 -0.64705882]\n",
      " [-0.64705882 -0.11764706  0.47058824]]\n"
     ]
    }
   ],
   "source": [
    "# 7\n",
    "z_inv = np.linalg.inv(Z)\n",
    "print(\"Determinant of Z inverse: \", np.linalg.det(z_inv))\n",
    "print(\"Z inverse:\\n\", z_inv)\n"
   ]
  },
  {
   "cell_type": "code",
   "execution_count": 214,
   "metadata": {},
   "outputs": [
    {
     "name": "stdout",
     "output_type": "stream",
     "text": [
      "Product of X s:\n",
      " [[ 2]\n",
      " [13]\n",
      " [ 5]]\n"
     ]
    }
   ],
   "source": [
    "# 8 \n",
    "product_Xs = np.dot(X, s).reshape(3, 1)\n",
    "print(\"Product of X s:\\n\", product_Xs)\n"
   ]
  },
  {
   "cell_type": "code",
   "execution_count": 215,
   "metadata": {},
   "outputs": [
    {
     "name": "stdout",
     "output_type": "stream",
     "text": [
      "Scalar projection of rows of X onto s: \n",
      " [[0.48507125]\n",
      " [3.15296313]\n",
      " [1.21267813]]\n"
     ]
    }
   ],
   "source": [
    "# 9\n",
    "s_normalized = s / np.linalg.norm(s)\n",
    "scalar_projections = np.array([np.dot(row, s_normalized) for row in X]).reshape(3, 1)\n",
    "print(\"Scalar projection of rows of X onto s: \\n\", scalar_projections)"
   ]
  },
  {
   "cell_type": "code",
   "execution_count": 216,
   "metadata": {},
   "outputs": [
    {
     "name": "stdout",
     "output_type": "stream",
     "text": [
      "Vector projection X onto s:\n",
      " [[-0.11764706  0.47058824  0.        ]\n",
      " [-0.76470588  3.05882353  0.        ]\n",
      " [-0.29411765  1.17647059  0.        ]]\n"
     ]
    }
   ],
   "source": [
    "# 10\n",
    "vector_projections = np.array([np.dot(row, s_normalized) * s_normalized for row in X])\n",
    "print(\"Vector projection X onto s:\\n\", vector_projections)"
   ]
  },
  {
   "cell_type": "code",
   "execution_count": 217,
   "metadata": {},
   "outputs": [
    {
     "name": "stdout",
     "output_type": "stream",
     "text": [
      "Linear combination of the columns of X using the elements of s:\n",
      " [ 2 13  5]\n"
     ]
    }
   ],
   "source": [
    "# 11\n",
    "linear_combination = s[0] * X[:, 0] + s[1] * X[:, 1] + s[2] * X[:, 2]\n",
    "print(\"Linear combination of the columns of X using the elements of s:\\n\", linear_combination)"
   ]
  },
  {
   "cell_type": "code",
   "execution_count": 218,
   "metadata": {},
   "outputs": [
    {
     "name": "stdout",
     "output_type": "stream",
     "text": [
      "Y t = s solution:\n",
      " [ 0.33333333  0.33333333 -1.        ]\n"
     ]
    }
   ],
   "source": [
    "# 12\n",
    "t_solution_for_Y_t_s = np.linalg.solve(Y, s)\n",
    "print(\"Y t = s solution:\\n\", t_solution_for_Y_t_s)"
   ]
  },
  {
   "cell_type": "code",
   "execution_count": 219,
   "metadata": {},
   "outputs": [
    {
     "name": "stdout",
     "output_type": "stream",
     "text": [
      "Z t = s solution:\n",
      " [-0.41176471  0.88235294  0.17647059]\n"
     ]
    }
   ],
   "source": [
    "# 13\n",
    "t_solution_for_Z_t_s = np.linalg.solve(Z, s)\n",
    "print(\"Z t = s solution:\\n\", t_solution_for_Z_t_s)\n"
   ]
  },
  {
   "cell_type": "markdown",
   "metadata": {},
   "source": [
    "### PART C"
   ]
  },
  {
   "cell_type": "code",
   "execution_count": 220,
   "metadata": {},
   "outputs": [],
   "source": [
    "M = np.array([[3, 2], [-1, 4]])\n",
    "N = np.array([[5, -3], [-3, 6]])\n",
    "P = np.array([[2, 4], [4, 8]])"
   ]
  },
  {
   "cell_type": "code",
   "execution_count": 221,
   "metadata": {},
   "outputs": [
    {
     "name": "stdout",
     "output_type": "stream",
     "text": [
      "M eigenvalue:  [3.5+1.32287566j 3.5-1.32287566j]\n",
      "M eigenvector:\n",
      " [[0.81649658+0.j         0.81649658-0.j        ]\n",
      " [0.20412415+0.54006172j 0.20412415-0.54006172j]]\n"
     ]
    }
   ],
   "source": [
    "# 1\n",
    "eigenvalues_M, eigenvectors_M = np.linalg.eig(M)\n",
    "print(\"M eigenvalue: \", eigenvalues_M)\n",
    "print(\"M eigenvector:\\n\", eigenvectors_M)"
   ]
  },
  {
   "cell_type": "code",
   "execution_count": 222,
   "metadata": {},
   "outputs": [
    {
     "name": "stdout",
     "output_type": "stream",
     "text": [
      "Dot product between eigenvector of M:  (0.9999999999999998-9.010813772709382e-19j)\n"
     ]
    }
   ],
   "source": [
    "# 2\n",
    "dot_product_eigenvectors_M = np.dot(eigenvectors_M[:, 0], eigenvectors_M[:, 1])\n",
    "print(\"Dot product between eigenvector of M: \", dot_product_eigenvectors_M)"
   ]
  },
  {
   "cell_type": "code",
   "execution_count": 223,
   "metadata": {},
   "outputs": [
    {
     "name": "stdout",
     "output_type": "stream",
     "text": [
      "Eigenvector of N:\n",
      " [[-0.76301998  0.6463749 ]\n",
      " [-0.6463749  -0.76301998]]\n",
      "Dot product between eigenvector of N:  9.102881516513367e-18\n"
     ]
    }
   ],
   "source": [
    "# 3\n",
    "eigenvalues_N, eigenvectors_N = np.linalg.eig(N)\n",
    "print(\"Eigenvector of N:\\n\", eigenvectors_N)\n",
    "dot_product_eigenvectors_N = np.dot(eigenvectors_N[:, 0], eigenvectors_N[:, 1])\n",
    "print(\"Dot product between eigenvector of N: \", dot_product_eigenvectors_N)"
   ]
  },
  {
   "cell_type": "code",
   "execution_count": 224,
   "metadata": {},
   "outputs": [
    {
     "name": "stdout",
     "output_type": "stream",
     "text": [
      "Since matrix N is symmetric, it has real eigenvalues and the eigenvectors are orthogonal\n"
     ]
    }
   ],
   "source": [
    "# 4\n",
    "result_4 = \"Since matrix N is symmetric, it has real eigenvalues and the eigenvectors are orthogonal\"\n",
    "print(result_4)"
   ]
  },
  {
   "cell_type": "code",
   "execution_count": 225,
   "metadata": {},
   "outputs": [
    {
     "name": "stdout",
     "output_type": "stream",
     "text": [
      "Trivial solution:  [0 0]\n"
     ]
    }
   ],
   "source": [
    "# 5\n",
    "trivial_solution = np.array([0, 0])\n",
    "print(\"Trivial solution: \", trivial_solution)"
   ]
  },
  {
   "cell_type": "code",
   "execution_count": 226,
   "metadata": {},
   "outputs": [
    {
     "name": "stdout",
     "output_type": "stream",
     "text": [
      "Matrix([[1, 2], [0, 0]])\n"
     ]
    }
   ],
   "source": [
    "#6\n",
    "\n",
    "import sympy as sp\n",
    "\n",
    "matrix = sp.Matrix(P)\n",
    "rref, _ =  matrix.rref()\n",
    "print(rref)"
   ]
  },
  {
   "cell_type": "code",
   "execution_count": 227,
   "metadata": {},
   "outputs": [
    {
     "name": "stdout",
     "output_type": "stream",
     "text": [
      "Matrix([[1, 0], [0, 1]])\n"
     ]
    }
   ],
   "source": [
    "# 7\n",
    "\n",
    "matrix = sp.Matrix(M)\n",
    "rref, _ = matrix.rref()\n",
    "print(rref)"
   ]
  },
  {
   "cell_type": "markdown",
   "metadata": {},
   "source": [
    "### PART D"
   ]
  },
  {
   "cell_type": "code",
   "execution_count": 228,
   "metadata": {},
   "outputs": [],
   "source": [
    "# input values\n",
    "\n",
    "x1, x2, x3 = 0.5, -0.8, 0.3\n",
    "w1, w2, w3 = 0.4, -0.6, 0.9\n",
    "b = 0.2"
   ]
  },
  {
   "cell_type": "code",
   "execution_count": 229,
   "metadata": {},
   "outputs": [
    {
     "name": "stdout",
     "output_type": "stream",
     "text": [
      "Output before activation:  1.15\n"
     ]
    }
   ],
   "source": [
    "# 1\n",
    "\n",
    "output = w1 * x1 + w2 * x2 + w3 * x3 + b\n",
    "print(\"Output before activation: \", output)\n"
   ]
  },
  {
   "cell_type": "code",
   "execution_count": 230,
   "metadata": {},
   "outputs": [
    {
     "name": "stdout",
     "output_type": "stream",
     "text": [
      "After sigmoid:  0.759510916949111\n"
     ]
    }
   ],
   "source": [
    "# 2\n",
    "def sigmoid(x):\n",
    "    return 1 / (1 + np.exp(-x))\n",
    "\n",
    "activation_value_sigmoid = sigmoid(output)\n",
    "print(\"After sigmoid: \", activation_value_sigmoid)\n"
   ]
  },
  {
   "cell_type": "code",
   "execution_count": 231,
   "metadata": {},
   "outputs": [
    {
     "name": "stdout",
     "output_type": "stream",
     "text": [
      "After ReLU:  1.15\n"
     ]
    }
   ],
   "source": [
    "# 3\n",
    "\n",
    "def relu(x):\n",
    "    return np.maximum(0, x)\n",
    "\n",
    "activation_value_relu = relu(output)\n",
    "print(\"After ReLU: \", activation_value_relu)\n"
   ]
  },
  {
   "cell_type": "code",
   "execution_count": 232,
   "metadata": {},
   "outputs": [],
   "source": [
    "Wh = np.array([[0.4, 0.3], [0.2, 0.7]])\n",
    "bh = np.array([0.1, -0.1])\n",
    "x = np.array([1, 2])"
   ]
  },
  {
   "cell_type": "code",
   "execution_count": 233,
   "metadata": {},
   "outputs": [
    {
     "name": "stdout",
     "output_type": "stream",
     "text": [
      "Output:  [1.1 1.5]\n"
     ]
    }
   ],
   "source": [
    "# 4\n",
    "hidden_layer_output = relu(np.dot(Wh, x) + bh)\n",
    "print(\"Output: \", hidden_layer_output)"
   ]
  },
  {
   "cell_type": "code",
   "execution_count": 234,
   "metadata": {},
   "outputs": [
    {
     "name": "stdout",
     "output_type": "stream",
     "text": [
      "Output after sigmoid activation 0.549833997312478\n"
     ]
    }
   ],
   "source": [
    "# 5\n",
    "Wo = np.array([0.5, -0.3])\n",
    "bo = 0.1\n",
    "\n",
    "output_layer_input = np.dot(Wo, hidden_layer_output) + bo\n",
    "output_layer_output = sigmoid(output_layer_input)\n",
    "\n",
    "print(\"Output after sigmoid activation\", output_layer_output)\n"
   ]
  }
 ],
 "metadata": {
  "kernelspec": {
   "display_name": "base",
   "language": "python",
   "name": "python3"
  },
  "language_info": {
   "codemirror_mode": {
    "name": "ipython",
    "version": 3
   },
   "file_extension": ".py",
   "mimetype": "text/x-python",
   "name": "python",
   "nbconvert_exporter": "python",
   "pygments_lexer": "ipython3",
   "version": "3.11.5"
  }
 },
 "nbformat": 4,
 "nbformat_minor": 2
}
